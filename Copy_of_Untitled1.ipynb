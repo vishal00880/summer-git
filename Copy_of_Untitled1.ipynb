{
  "nbformat": 4,
  "nbformat_minor": 0,
  "metadata": {
    "colab": {
      "provenance": [],
      "authorship_tag": "ABX9TyMxhxnwob+8C5mg/7jQY3NN",
      "include_colab_link": true
    },
    "kernelspec": {
      "name": "python3",
      "display_name": "Python 3"
    },
    "language_info": {
      "name": "python"
    }
  },
  "cells": [
    {
      "cell_type": "markdown",
      "metadata": {
        "id": "view-in-github",
        "colab_type": "text"
      },
      "source": [
        "<a href=\"https://colab.research.google.com/github/vishal00880/summer-git/blob/main/Copy_of_Untitled1.ipynb\" target=\"_parent\"><img src=\"https://colab.research.google.com/assets/colab-badge.svg\" alt=\"Open In Colab\"/></a>"
      ]
    },
    {
      "cell_type": "code",
      "execution_count": null,
      "metadata": {
        "colab": {
          "base_uri": "https://localhost:8080/"
        },
        "id": "I4n_51wRO4Ox",
        "outputId": "c4bb8453-7896-4c41-b608-28a15c9292ac"
      },
      "outputs": [
        {
          "output_type": "stream",
          "name": "stdout",
          "text": [
            "hello 100 19\n",
            "hello 100 19\n"
          ]
        }
      ],
      "source": [
        "a=100\n",
        "def test():\n",
        "  z=19\n",
        "  print(\"hello\",a,z)\n",
        "test()\n",
        "test()"
      ]
    },
    {
      "cell_type": "code",
      "source": [
        "def msg(username):\n",
        "  print(\"hey\",username)\n",
        "msg(\"shubham\")\n",
        "msg(\"vishal\")"
      ],
      "metadata": {
        "colab": {
          "base_uri": "https://localhost:8080/"
        },
        "id": "wAwL9B3kQIKu",
        "outputId": "d8bc20a0-b086-42aa-bf98-fec16310a66b"
      },
      "execution_count": null,
      "outputs": [
        {
          "output_type": "stream",
          "name": "stdout",
          "text": [
            "hey shubham\n",
            "hey vishal\n"
          ]
        }
      ]
    },
    {
      "cell_type": "code",
      "source": [
        "def totalsum(num):\n",
        "  total=0\n",
        "  for i in  range(1,num+1):\n",
        "    total=total+i\n",
        "  print(f\"sum of {num} is =>\",total)\n",
        "totalsum(90)"
      ],
      "metadata": {
        "colab": {
          "base_uri": "https://localhost:8080/"
        },
        "id": "zq3RjCFDQcnz",
        "outputId": "2699c7f2-f8a6-4818-af79-f1a4e00468a3"
      },
      "execution_count": null,
      "outputs": [
        {
          "output_type": "stream",
          "name": "stdout",
          "text": [
            "sum of 90 is => 4095\n"
          ]
        }
      ]
    },
    {
      "cell_type": "code",
      "source": [
        "def pattern(num):\n",
        "  for i in range(1,num):\n",
        "    for j in range(2,i+1):\n",
        "      print(\"-\",end='')\n",
        "    for j in range(1,num-i+1):\n",
        "      print(j,end='')\n",
        "    print()\n",
        "pattern(5)\n",
        "\n"
      ],
      "metadata": {
        "colab": {
          "base_uri": "https://localhost:8080/"
        },
        "id": "MCxOSgPJR3vQ",
        "outputId": "f93530f9-485c-4a53-90cc-63b44e976cd6"
      },
      "execution_count": null,
      "outputs": [
        {
          "output_type": "stream",
          "name": "stdout",
          "text": [
            "1234\n",
            "-123\n",
            "--12\n",
            "---1\n"
          ]
        }
      ]
    },
    {
      "cell_type": "code",
      "source": [
        "def lcm(x,y):\n",
        "  if x >y:\n",
        "    greater = x\n",
        "  else:\n",
        "    greater = y\n",
        "  while True:\n",
        "    if(( greater%x ==0) and (greater % y==0)):\n",
        "      lcm_two= greater\n",
        "      break\n",
        "    greater +=1\n",
        "  return lcm_two\n",
        "print(lcm(54,24))"
      ],
      "metadata": {
        "colab": {
          "base_uri": "https://localhost:8080/"
        },
        "id": "MGuQDlH_WMIr",
        "outputId": "5cab4d5d-364b-45b5-d72c-89121c6d54ce"
      },
      "execution_count": null,
      "outputs": [
        {
          "output_type": "stream",
          "name": "stdout",
          "text": [
            "216\n"
          ]
        }
      ]
    },
    {
      "cell_type": "code",
      "source": [],
      "metadata": {
        "id": "N0R9vf_FbgTu"
      },
      "execution_count": null,
      "outputs": []
    }
  ]
}