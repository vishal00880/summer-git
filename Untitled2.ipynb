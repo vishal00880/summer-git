{
  "nbformat": 4,
  "nbformat_minor": 0,
  "metadata": {
    "colab": {
      "provenance": [],
      "authorship_tag": "ABX9TyOQd9y1xl0Mm9DWOU4NMnFa",
      "include_colab_link": true
    },
    "kernelspec": {
      "name": "python3",
      "display_name": "Python 3"
    },
    "language_info": {
      "name": "python"
    }
  },
  "cells": [
    {
      "cell_type": "markdown",
      "metadata": {
        "id": "view-in-github",
        "colab_type": "text"
      },
      "source": [
        "<a href=\"https://colab.research.google.com/github/vishal00880/summer-git/blob/main/Untitled2.ipynb\" target=\"_parent\"><img src=\"https://colab.research.google.com/assets/colab-badge.svg\" alt=\"Open In Colab\"/></a>"
      ]
    },
    {
      "cell_type": "code",
      "execution_count": 19,
      "metadata": {
        "colab": {
          "base_uri": "https://localhost:8080/"
        },
        "id": "mNSUpem_WrpA",
        "outputId": "0fd4c32f-b679-47e7-9c3d-c819006c2b6c"
      },
      "outputs": [
        {
          "output_type": "stream",
          "name": "stdout",
          "text": [
            "<__main__.HouseDesign object at 0x7b093904ebd0>\n",
            "white\n"
          ]
        }
      ],
      "source": [
        "class HouseDesign:\n",
        "  color =\"yellow\"\n",
        "h1 = HouseDesign()\n",
        "print(h1)\n",
        "h2=HouseDesign()\n",
        "h2.color=\"white\"\n",
        "print(h2.color)"
      ]
    },
    {
      "cell_type": "code",
      "source": [
        "class housedesign:\n",
        "  def __init__ (self):\n",
        "    print(\"mistri sahab aa gaye\",self)\n",
        "  color=\"yellow\"\n",
        "h1=housedesign()\n",
        "print(h1)"
      ],
      "metadata": {
        "colab": {
          "base_uri": "https://localhost:8080/"
        },
        "id": "Cxb6Im6lbQbl",
        "outputId": "7aa4cdfb-42fa-456f-af58-40f5578ce8e7"
      },
      "execution_count": 25,
      "outputs": [
        {
          "output_type": "stream",
          "name": "stdout",
          "text": [
            "mistri sahab aa gaye <__main__.housedesign object at 0x7b0921f9ec10>\n",
            "<__main__.housedesign object at 0x7b0921f9ec10>\n"
          ]
        }
      ]
    },
    {
      "cell_type": "code",
      "source": [
        "class housedesign:\n",
        "  def __init__ (self,x):\n",
        "    self.color=x\n",
        "h1=housedesign(\"green\")\n",
        "print(\"h1:\",h1.color)\n",
        "h2=housedesign(\"pink\")\n",
        "print(\"h2:\",h2.color)"
      ],
      "metadata": {
        "colab": {
          "base_uri": "https://localhost:8080/"
        },
        "id": "BYbCUluMcjet",
        "outputId": "4e18bfab-84ce-4775-a72f-51a0d68b2e3a"
      },
      "execution_count": 29,
      "outputs": [
        {
          "output_type": "stream",
          "name": "stdout",
          "text": [
            "h1: green\n",
            "h2: pink\n"
          ]
        }
      ]
    },
    {
      "cell_type": "code",
      "source": [
        "class parent:\n",
        "  amount = 50000\n",
        "class child(parent):\n",
        "  salary = 10000\n",
        "c1=child()\n",
        "print(c1.amount)"
      ],
      "metadata": {
        "colab": {
          "base_uri": "https://localhost:8080/"
        },
        "id": "0fqr7oEAguAE",
        "outputId": "6276e913-05f7-4173-c49a-b05e1fad19ab"
      },
      "execution_count": 37,
      "outputs": [
        {
          "output_type": "stream",
          "name": "stdout",
          "text": [
            "50000\n"
          ]
        }
      ]
    },
    {
      "cell_type": "code",
      "source": [
        "class driver:\n",
        "  def __init__ (self,x,y,z):\n",
        "    self.id=x\n",
        "    self.name=y\n",
        "    self.email=z\n",
        "d1=driver(10,\"sahil\",\"sahil@gmail.com\")\n",
        "print(d1.name)"
      ],
      "metadata": {
        "colab": {
          "base_uri": "https://localhost:8080/"
        },
        "id": "HTiXdvWyg4lm",
        "outputId": "af95237d-3252-495e-e1bd-48b9b5ff7697"
      },
      "execution_count": 38,
      "outputs": [
        {
          "output_type": "stream",
          "name": "stdout",
          "text": [
            "sahil\n"
          ]
        }
      ]
    },
    {
      "cell_type": "code",
      "source": [
        "class customer:\n",
        "  def __init__ (self,x,y,z,a):\n",
        "    self.id=x\n",
        "    self.name=y\n",
        "    self.email=z\n",
        "    self.wallet=a\n",
        "c1=customer(10,\"sahil\",\"sahil@gmail.com\",5000)\n",
        "print(c1.wallet)\n"
      ],
      "metadata": {
        "colab": {
          "base_uri": "https://localhost:8080/"
        },
        "id": "4PflClbJjae9",
        "outputId": "5b2ae4d6-bfd7-438f-a149-6e371e2e3d6f"
      },
      "execution_count": 39,
      "outputs": [
        {
          "output_type": "stream",
          "name": "stdout",
          "text": [
            "5000\n"
          ]
        }
      ]
    },
    {
      "cell_type": "code",
      "source": [
        "class customer(driver):\n",
        "  def __init__ (self,a,b,c):\n",
        "    super(). __init__(a,b,c)\n",
        "c1=customer(12,\"naina\",\"naina@gmail.com\")\n",
        "print(c1.name)"
      ],
      "metadata": {
        "colab": {
          "base_uri": "https://localhost:8080/"
        },
        "id": "v2zNZxLDlcXt",
        "outputId": "a23a9cbd-5148-4459-d03b-567c900bc162"
      },
      "execution_count": 40,
      "outputs": [
        {
          "output_type": "stream",
          "name": "stdout",
          "text": [
            "naina\n"
          ]
        }
      ]
    },
    {
      "cell_type": "code",
      "source": [
        "class employee:\n",
        "  def __init__ (self,x,y,z,a):\n",
        "    self.id=x\n",
        "    self.name=y\n",
        "    self.email=z\n",
        "    self.salary=a\n",
        "  def info(self):\n",
        "    print(self.salary//12,self.email.split(\"@\")[-1])\n",
        "e1=employee(10,\"sahil\",\"sahil@gmail.com\",50000)\n",
        "print(e1.salary)\n",
        "e1.info()"
      ],
      "metadata": {
        "colab": {
          "base_uri": "https://localhost:8080/"
        },
        "id": "GN9TiRO5mLVg",
        "outputId": "5d00ea4f-5104-4de7-9b84-509721007ec2"
      },
      "execution_count": 41,
      "outputs": [
        {
          "output_type": "stream",
          "name": "stdout",
          "text": [
            "50000\n",
            "4166 gmail.com\n"
          ]
        }
      ]
    }
  ]
}